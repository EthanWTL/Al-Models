{
 "cells": [
  {
   "cell_type": "code",
   "execution_count": 9,
   "id": "9bb149f1",
   "metadata": {},
   "outputs": [
    {
     "ename": "SyntaxError",
     "evalue": "invalid syntax (322901558.py, line 2)",
     "output_type": "error",
     "traceback": [
      "\u001b[1;36m  Input \u001b[1;32mIn [9]\u001b[1;36m\u001b[0m\n\u001b[1;33m    wget https://dl.fbaipublicfiles.com/fairseq/models/bart.large.tar.gz\u001b[0m\n\u001b[1;37m         ^\u001b[0m\n\u001b[1;31mSyntaxError\u001b[0m\u001b[1;31m:\u001b[0m invalid syntax\n"
     ]
    }
   ],
   "source": [
    "# Download bart.large model\n",
    "wget https://dl.fbaipublicfiles.com/fairseq/models/bart.large.tar.gz\n",
    "tar -xzvf bart.large.tar.gz\n",
    "\n",
    "# Load the model in fairseq\n",
    "from fairseq.models.bart import BARTModel\n",
    "bart = BARTModel.from_pretrained('/path/to/bart.large', checkpoint_file='model.pt')\n",
    "bart.eval()  # disable dropout (or leave in train mode to finetune)"
   ]
  },
  {
   "cell_type": "code",
   "execution_count": null,
   "id": "aff2c9f7",
   "metadata": {},
   "outputs": [],
   "source": [
    "tokens = bart.encode('Hello world!')\n",
    "assert tokens.tolist() == [0, 31414, 232, 328, 2]\n",
    "bart.decode(tokens)  # 'Hello world!'"
   ]
  },
  {
   "cell_type": "code",
   "execution_count": null,
   "id": "180c5809",
   "metadata": {},
   "outputs": [],
   "source": []
  }
 ],
 "metadata": {
  "kernelspec": {
   "display_name": "Python 3 (ipykernel)",
   "language": "python",
   "name": "python3"
  },
  "language_info": {
   "codemirror_mode": {
    "name": "ipython",
    "version": 3
   },
   "file_extension": ".py",
   "mimetype": "text/x-python",
   "name": "python",
   "nbconvert_exporter": "python",
   "pygments_lexer": "ipython3",
   "version": "3.9.12"
  }
 },
 "nbformat": 4,
 "nbformat_minor": 5
}
